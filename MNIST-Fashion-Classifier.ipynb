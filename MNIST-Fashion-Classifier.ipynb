{
 "cells": [
  {
   "cell_type": "markdown",
   "metadata": {},
   "source": [
    "# Classifying Fashion-MNIST\n",
    "\n",
    "We'll be using the [Fashion-MNIST dataset](https://github.com/zalandoresearch/fashion-mnist), a drop-in replacement for the MNIST dataset. MNIST is actually quite trivial with neural networks where you can easily achieve better than 97% accuracy. Fashion-MNIST is a set of 28x28 greyscale images of clothes. It's more complex than MNIST.\n",
    "\n",
    "<img src='assets/fashion-mnist-sprite.png' width=\"500\" />"
   ]
  },
  {
   "cell_type": "markdown",
   "metadata": {},
   "source": [
    "First off, let's load the dataset through torchvision."
   ]
  },
  {
   "cell_type": "code",
   "execution_count": 1,
   "metadata": {},
   "outputs": [],
   "source": [
    "import torch\n",
    "from torchvision import datasets, transforms\n",
    "import helper\n",
    "\n",
    "# Define a transform to normalize the data\n",
    "transform = transforms.Compose([transforms.ToTensor(),\n",
    "                                transforms.Normalize((0.5, 0.5, 0.5), (0.5, 0.5, 0.5))])\n",
    "# Download and load the training data\n",
    "trainset = datasets.FashionMNIST('F_MNIST_data/', download=True, train=True, transform=transform)\n",
    "trainloader = torch.utils.data.DataLoader(trainset, batch_size=64, shuffle=True)\n",
    "\n",
    "# Download and load the test data\n",
    "testset = datasets.FashionMNIST('F_MNIST_data/', download=True, train=False, transform=transform)\n",
    "testloader = torch.utils.data.DataLoader(testset, batch_size=64, shuffle=True)"
   ]
  },
  {
   "cell_type": "markdown",
   "metadata": {},
   "source": [
    "Here we can see one of the images."
   ]
  },
  {
   "cell_type": "code",
   "execution_count": 2,
   "metadata": {},
   "outputs": [
    {
     "data": {
      "image/png": "[encoded data removed]",
      "text/plain": [
       "<Figure size 432x288 with 1 Axes>"
      ]
     },
     "metadata": {
      "needs_background": "light"
     },
     "output_type": "display_data"
    }
   ],
   "source": [
    "image, label = next(iter(trainloader))\n",
    "helper.imshow(image[0,:]);"
   ]
  },
  {
   "cell_type": "markdown",
   "metadata": {},
   "source": [
    "With the data loaded, it's time to import the necessary packages."
   ]
  },
  {
   "cell_type": "code",
   "execution_count": 3,
   "metadata": {},
   "outputs": [],
   "source": [
    "%matplotlib inline\n",
    "%config InlineBackend.figure_format = 'retina'\n",
    "\n",
    "import matplotlib.pyplot as plt\n",
    "import numpy as np\n",
    "import time\n",
    "\n",
    "from torch import nn\n",
    "from torch import optim\n",
    "import torch.nn.functional as F"
   ]
  },
  {
   "cell_type": "markdown",
   "metadata": {},
   "source": [
    "## Building the network\n",
    "\n",
    "As with MNIST, each image in Fashion-MNIST is 28x28 which is a total of 784 pixels, and there are 10 classes. We're going to get a bit more advanced here, we want to be able to build a network with an arbitrary number of hidden layers. That is, we want to pass in a parameter like `hidden_layers = [512, 256, 128]` and the network is contructed with three hidden layers have 512, 256, and 128 units respectively. To do this, we'll use `nn.ModuleList` to allow for an arbitrary number of hidden layers. Using `nn.ModuleList` works pretty much the same as a normal Python list, except that it registers each hidden layer `Linear` module properly so the model is aware of the layers.\n",
    "\n",
    "The issue here is we need a way to define each `nn.Linear` module with the appropriate layer sizes. Since each `nn.Linear` operation needs an input size and an output size, we need something that looks like this:\n",
    "\n",
    "```python\n",
    "# Create ModuleList and add input layer\n",
    "hidden_layers = nn.ModuleList([nn.Linear(input_size, hidden_layers[0])])\n",
    "# Add hidden layers to the ModuleList\n",
    "hidden_layers.extend([nn.Linear(h1, h2) for h1, h2 in layer_sizes])\n",
    "```\n",
    "\n",
    "Getting these pairs of input and output sizes can be done with a handy trick using `zip`.\n",
    "\n",
    "```python\n",
    "hidden_layers = [512, 256, 128, 64]\n",
    "layer_sizes = zip(hidden_layers[:-1], hidden_layers[1:])\n",
    "for each in layer_sizes:\n",
    "    print(each)\n",
    "\n",
    ">> (512, 256)\n",
    ">> (256, 128)\n",
    ">> (128, 64)\n",
    "```\n",
    "\n",
    "We also have the `forward` method returning the log-softmax for the output. Since softmax is a probability distibution over the classes, the log-softmax is a log probability which comes with a [lot of benefits](https://en.wikipedia.org/wiki/Log_probability). Using the log probability, computations are often faster and more accurate. To get the class probabilities later, we'll need to take the exponential (`torch.exp`) of the output.\n",
    "\n",
    "$$ \\large{e^{\\ln{x}} = x }$$\n",
    "\n",
    "We can include dropout in our network with [`nn.Dropout`](http://pytorch.org/docs/master/nn.html#dropout). This works similar to other modules such as `nn.Linear`. It also takes the dropout probability as an input which we can pass as an input to the network."
   ]
  },
  {
   "cell_type": "code",
   "execution_count": 4,
   "metadata": {},
   "outputs": [],
   "source": [
    "class Network(nn.Module):\n",
    "    def __init__(self, input_size, output_size, hidden_layers, drop_p=0.5):\n",
    "        ''' Builds a feedforward network with arbitrary hidden layers.\n",
    "        \n",
    "            Arguments\n",
    "            ---------\n",
    "            input_size: integer, size of the input\n",
    "            output_size: integer, size of the output layer\n",
    "            hidden_layers: list of integers, the sizes of the hidden layers\n",
    "            drop_p: float between 0 and 1, dropout probability\n",
    "        '''\n",
    "        super().__init__()\n",
    "        # Add the first layer, input to a hidden layer\n",
    "        self.hidden_layers = nn.ModuleList([nn.Linear(input_size, hidden_layers[0])])\n",
    "        \n",
    "        # Add a variable number of more hidden layers\n",
    "        layer_sizes = zip(hidden_layers[:-1], hidden_layers[1:])\n",
    "        self.hidden_layers.extend([nn.Linear(h1, h2) for h1, h2 in layer_sizes])\n",
    "        \n",
    "        self.output = nn.Linear(hidden_layers[-1], output_size)\n",
    "        \n",
    "        self.dropout = nn.Dropout(p=drop_p)\n",
    "        \n",
    "    def forward(self, x):\n",
    "        ''' Forward pass through the network, returns the output logits '''\n",
    "        \n",
    "        # Forward through each layer in `hidden_layers`, with ReLU activation and dropout\n",
    "        for linear in self.hidden_layers:\n",
    "            x = F.relu(linear(x))\n",
    "            x = self.dropout(x)\n",
    "        \n",
    "        x = self.output(x)\n",
    "        \n",
    "        return F.log_softmax(x, dim=1)"
   ]
  },
  {
   "cell_type": "markdown",
   "metadata": {},
   "source": [
    "# Train the network\n",
    "\n",
    "Since the model's forward method returns the log-softmax, we used the [negative log loss](http://pytorch.org/docs/master/nn.html#nllloss) as our criterion, `nn.NLLLoss()`. We also chose to use the [Adam optimizer](http://pytorch.org/docs/master/optim.html#torch.optim.Adam). This is a variant of stochastic gradient descent which includes momentum and in general trains faster than basic SGD.\n",
    "\n",
    "We've also included a block to measure the validation loss and accuracy. Since we'm using dropout in the network, we need to turn it off during inference. Otherwise, the network will appear to perform poorly because many of the connections are turned off. PyTorch allows us to set a model in \"training\" or \"evaluation\" modes with `model.train()` and `model.eval()`, respectively. In training mode, dropout is turned on, while in evaluation mode, dropout is turned off. This effects other modules as well that should be on during training but off during inference.\n",
    "\n",
    "The validation code consists of a forward pass through the validation set (also split into batches). With the log-softmax output, we calculate the loss on the validation set, as well as the prediction accuracy."
   ]
  },
  {
   "cell_type": "code",
   "execution_count": 5,
   "metadata": {},
   "outputs": [],
   "source": [
    "# Implement a function for the validation pass\n",
    "def validation(model, testloader, criterion, input_size):\n",
    "    accuracy = 0\n",
    "    test_loss = 0\n",
    "    for images, labels in testloader:\n",
    "\n",
    "        images.resize_(images.size()[0], input_size)\n",
    "\n",
    "        output = model.forward(images)\n",
    "        test_loss += criterion(output, labels).item()\n",
    "\n",
    "        ## Calculating the accuracy \n",
    "        # Model's output is log-softmax, take exponential to get the probabilities\n",
    "        ps = torch.exp(output)\n",
    "        # Class with highest probability is our predicted class, compare with true label\n",
    "        equality = (labels.data == ps.max(dim=1)[1])\n",
    "        # Accuracy is number of correct predictions divided by all predictions, just take the mean\n",
    "        accuracy += equality.type(torch.FloatTensor).mean()\n",
    "\n",
    "    return test_loss, accuracy"
   ]
  },
  {
   "cell_type": "code",
   "execution_count": 6,
   "metadata": {},
   "outputs": [],
   "source": [
    "def train(model, trainloader, testloader, criterion, optimizer, input_size, epochs=5, print_every=40):\n",
    "    \n",
    "    steps = 0\n",
    "    running_loss = 0\n",
    "    for e in range(epochs):\n",
    "        # Model in training mode, dropout is on\n",
    "        model.train()\n",
    "        for images, labels in trainloader:\n",
    "            steps += 1\n",
    "            \n",
    "            # Flatten images into a 784 long vector\n",
    "            images.resize_(images.size()[0], input_size)\n",
    "            \n",
    "            optimizer.zero_grad()\n",
    "            \n",
    "            output = model.forward(images)\n",
    "            loss = criterion(output, labels)\n",
    "            loss.backward()\n",
    "            optimizer.step()\n",
    "            \n",
    "            running_loss += loss.item()\n",
    "\n",
    "            if steps % print_every == 0:\n",
    "                # Model in inference mode, dropout is off\n",
    "                model.eval()\n",
    "                \n",
    "                # Turn off gradients for validation, will speed up inference\n",
    "                with torch.no_grad():\n",
    "                    test_loss, accuracy = validation(model, testloader, criterion, input_size)\n",
    "                \n",
    "                print(\"Epoch: {}/{}.. \".format(e+1, epochs),\n",
    "                      \"Training Loss: {:.3f}.. \".format(running_loss/print_every),\n",
    "                      \"Test Loss: {:.3f}.. \".format(test_loss/len(testloader)),\n",
    "                      \"Test Accuracy: {:.3f}\".format(accuracy/len(testloader)))\n",
    "                \n",
    "                running_loss = 0\n",
    "                \n",
    "                # Make sure dropout and grads are on for training\n",
    "                model.train()"
   ]
  },
  {
   "cell_type": "code",
   "execution_count": 7,
   "metadata": {},
   "outputs": [],
   "source": [
    "# Hyper parameters\n",
    "\n",
    "input_size = 784\n",
    "output_size = 10\n",
    "hidden_layers = [516, 256]"
   ]
  },
  {
   "cell_type": "code",
   "execution_count": 8,
   "metadata": {},
   "outputs": [],
   "source": [
    "# Create the network, define the criterion and optimizer\n",
    "model = Network(input_size, output_size, hidden_layers)\n",
    "criterion = nn.NLLLoss()\n",
    "optimizer = optim.Adam(model.parameters(), lr=0.001)"
   ]
  },
  {
   "cell_type": "code",
   "execution_count": 9,
   "metadata": {},
   "outputs": [
    {
     "name": "stdout",
     "output_type": "stream",
     "text": [
      "Epoch: 1/20..  Training Loss: 0.724..  Test Loss: 0.498..  Test Accuracy: 0.813\n",
      "Epoch: 1/20..  Training Loss: 0.534..  Test Loss: 0.455..  Test Accuracy: 0.836\n",
      "Epoch: 2/20..  Training Loss: 0.500..  Test Loss: 0.450..  Test Accuracy: 0.835\n",
      "Epoch: 2/20..  Training Loss: 0.478..  Test Loss: 0.435..  Test Accuracy: 0.846\n",
      "Epoch: 3/20..  Training Loss: 0.476..  Test Loss: 0.420..  Test Accuracy: 0.846\n",
      "Epoch: 3/20..  Training Loss: 0.450..  Test Loss: 0.416..  Test Accuracy: 0.842\n",
      "Epoch: 3/20..  Training Loss: 0.456..  Test Loss: 0.414..  Test Accuracy: 0.847\n",
      "Epoch: 4/20..  Training Loss: 0.430..  Test Loss: 0.394..  Test Accuracy: 0.860\n",
      "Epoch: 4/20..  Training Loss: 0.440..  Test Loss: 0.393..  Test Accuracy: 0.857\n",
      "Epoch: 5/20..  Training Loss: 0.423..  Test Loss: 0.396..  Test Accuracy: 0.860\n",
      "Epoch: 5/20..  Training Loss: 0.423..  Test Loss: 0.385..  Test Accuracy: 0.860\n",
      "Epoch: 6/20..  Training Loss: 0.419..  Test Loss: 0.396..  Test Accuracy: 0.854\n",
      "Epoch: 6/20..  Training Loss: 0.408..  Test Loss: 0.376..  Test Accuracy: 0.861\n",
      "Epoch: 6/20..  Training Loss: 0.406..  Test Loss: 0.379..  Test Accuracy: 0.865\n",
      "Epoch: 7/20..  Training Loss: 0.397..  Test Loss: 0.370..  Test Accuracy: 0.861\n",
      "Epoch: 7/20..  Training Loss: 0.401..  Test Loss: 0.380..  Test Accuracy: 0.862\n",
      "Epoch: 8/20..  Training Loss: 0.405..  Test Loss: 0.363..  Test Accuracy: 0.864\n",
      "Epoch: 8/20..  Training Loss: 0.388..  Test Loss: 0.360..  Test Accuracy: 0.871\n",
      "Epoch: 9/20..  Training Loss: 0.392..  Test Loss: 0.367..  Test Accuracy: 0.860\n",
      "Epoch: 9/20..  Training Loss: 0.383..  Test Loss: 0.379..  Test Accuracy: 0.860\n",
      "Epoch: 9/20..  Training Loss: 0.391..  Test Loss: 0.366..  Test Accuracy: 0.866\n",
      "Epoch: 10/20..  Training Loss: 0.379..  Test Loss: 0.363..  Test Accuracy: 0.866\n",
      "Epoch: 10/20..  Training Loss: 0.385..  Test Loss: 0.358..  Test Accuracy: 0.872\n",
      "Epoch: 11/20..  Training Loss: 0.377..  Test Loss: 0.366..  Test Accuracy: 0.867\n",
      "Epoch: 11/20..  Training Loss: 0.373..  Test Loss: 0.357..  Test Accuracy: 0.875\n",
      "Epoch: 12/20..  Training Loss: 0.375..  Test Loss: 0.362..  Test Accuracy: 0.866\n",
      "Epoch: 12/20..  Training Loss: 0.368..  Test Loss: 0.355..  Test Accuracy: 0.873\n",
      "Epoch: 12/20..  Training Loss: 0.364..  Test Loss: 0.358..  Test Accuracy: 0.871\n",
      "Epoch: 13/20..  Training Loss: 0.375..  Test Loss: 0.359..  Test Accuracy: 0.874\n",
      "Epoch: 13/20..  Training Loss: 0.362..  Test Loss: 0.362..  Test Accuracy: 0.870\n",
      "Epoch: 14/20..  Training Loss: 0.364..  Test Loss: 0.356..  Test Accuracy: 0.870\n",
      "Epoch: 14/20..  Training Loss: 0.363..  Test Loss: 0.349..  Test Accuracy: 0.877\n",
      "Epoch: 15/20..  Training Loss: 0.363..  Test Loss: 0.342..  Test Accuracy: 0.876\n",
      "Epoch: 15/20..  Training Loss: 0.355..  Test Loss: 0.349..  Test Accuracy: 0.872\n",
      "Epoch: 15/20..  Training Loss: 0.367..  Test Loss: 0.345..  Test Accuracy: 0.876\n",
      "Epoch: 16/20..  Training Loss: 0.357..  Test Loss: 0.349..  Test Accuracy: 0.880\n",
      "Epoch: 16/20..  Training Loss: 0.363..  Test Loss: 0.352..  Test Accuracy: 0.869\n",
      "Epoch: 17/20..  Training Loss: 0.348..  Test Loss: 0.345..  Test Accuracy: 0.875\n",
      "Epoch: 17/20..  Training Loss: 0.354..  Test Loss: 0.349..  Test Accuracy: 0.874\n",
      "Epoch: 18/20..  Training Loss: 0.352..  Test Loss: 0.344..  Test Accuracy: 0.876\n",
      "Epoch: 18/20..  Training Loss: 0.351..  Test Loss: 0.353..  Test Accuracy: 0.875\n",
      "Epoch: 18/20..  Training Loss: 0.351..  Test Loss: 0.343..  Test Accuracy: 0.873\n",
      "Epoch: 19/20..  Training Loss: 0.342..  Test Loss: 0.345..  Test Accuracy: 0.875\n",
      "Epoch: 19/20..  Training Loss: 0.341..  Test Loss: 0.344..  Test Accuracy: 0.879\n",
      "Epoch: 20/20..  Training Loss: 0.357..  Test Loss: 0.340..  Test Accuracy: 0.879\n",
      "Epoch: 20/20..  Training Loss: 0.350..  Test Loss: 0.346..  Test Accuracy: 0.876\n"
     ]
    }
   ],
   "source": [
    "train(model, trainloader, testloader, criterion, optimizer, input_size, epochs=20, print_every=400)"
   ]
  },
  {
   "cell_type": "markdown",
   "metadata": {},
   "source": [
    "## Inference\n",
    "\n",
    "Now that the model is trained, we can use it for inference. We need to remember to set the model in inference mode with `model.eval()`. We'll also want to turn off autograd with the `torch.no_grad()` context."
   ]
  },
  {
   "cell_type": "code",
   "execution_count": 17,
   "metadata": {},
   "outputs": [
    {
     "data": {
      "image/png": "[encoded data removed]",
      "text/plain": [
       "<Figure size 432x648 with 2 Axes>"
      ]
     },
     "metadata": {
      "image/png": {
       "height": 216,
       "width": 424
      },
      "needs_background": "light"
     },
     "output_type": "display_data"
    }
   ],
   "source": [
    "# Test out your network!\n",
    "\n",
    "model.eval()\n",
    "\n",
    "dataiter = iter(testloader)\n",
    "images, labels = dataiter.next()\n",
    "img = images[0]\n",
    "# Convert 2D image to 1D vector\n",
    "img = img.view(1, 784)\n",
    "\n",
    "# Calculate the class probabilities (softmax) for img\n",
    "with torch.no_grad():\n",
    "    output = model.forward(img)\n",
    "\n",
    "ps = torch.exp(output)\n",
    "\n",
    "# Plot the image and probabilities\n",
    "helper.view_classify(img.view(1, 28, 28), ps, version='Fashion')"
   ]
  },
  {
   "cell_type": "markdown",
   "metadata": {},
   "source": [
    "## Accuracy Testing"
   ]
  },
  {
   "cell_type": "code",
   "execution_count": 11,
   "metadata": {},
   "outputs": [
    {
     "name": "stdout",
     "output_type": "stream",
     "text": [
      "Test Accuracy: 0.879\n"
     ]
    }
   ],
   "source": [
    "# Final Testing Accuracy\n",
    "\n",
    "model.eval()\n",
    "accuracy = 0\n",
    "for images, labels in iter(testloader):\n",
    "\n",
    "        images.resize_(images.shape[0], 784)\n",
    "        with torch.no_grad():\n",
    "            output = model.forward(images)\n",
    "        \n",
    "        ps = torch.exp(output)\n",
    "        equality = (labels.data == ps.max(dim=1)[1])\n",
    "        accuracy += equality.type(torch.FloatTensor).mean()\n",
    "print(\"Test Accuracy: {:.3f}\".format(accuracy/len(testloader)))"
   ]
  },
  {
   "cell_type": "markdown",
   "metadata": {},
   "source": [
    "## Saving the model"
   ]
  },
  {
   "cell_type": "code",
   "execution_count": 12,
   "metadata": {},
   "outputs": [],
   "source": [
    "checkpoint = {'input_size': input_size,\n",
    "              'output_size': output_size,\n",
    "              'hidden_layers': hidden_layers,\n",
    "              'state_dict': model.state_dict()}\n",
    "\n",
    "torch.save(checkpoint, 'checkpoint1.pth')"
   ]
  },
  {
   "cell_type": "markdown",
   "metadata": {},
   "source": [
    "## Loading the model"
   ]
  },
  {
   "cell_type": "code",
   "execution_count": 13,
   "metadata": {},
   "outputs": [],
   "source": [
    "def load_checkpoint(filepath):\n",
    "\n",
    "    checkpoint = torch.load(filepath)\n",
    "    model = Network(checkpoint['input_size'],\n",
    "                    checkpoint['output_size'],\n",
    "                    checkpoint['hidden_layers'])\n",
    "\n",
    "    model.load_state_dict(checkpoint['state_dict'])\n",
    "    \n",
    "    return model"
   ]
  },
  {
   "cell_type": "code",
   "execution_count": 14,
   "metadata": {},
   "outputs": [],
   "source": [
    "model = load_checkpoint('checkpoint1.pth')"
   ]
  },
  {
   "cell_type": "markdown",
   "metadata": {},
   "source": [
    "## Accuracy Testing"
   ]
  },
  {
   "cell_type": "code",
   "execution_count": 15,
   "metadata": {},
   "outputs": [
    {
     "name": "stdout",
     "output_type": "stream",
     "text": [
      "Test Accuracy: 0.879\n"
     ]
    }
   ],
   "source": [
    "# Final Testing Accuracy\n",
    "\n",
    "model.eval()\n",
    "accuracy = 0\n",
    "for images, labels in testloader:\n",
    "\n",
    "        images.resize_(images.shape[0], 784)\n",
    "        with torch.no_grad():\n",
    "            output = model.forward(images)\n",
    "        \n",
    "        ps = torch.exp(output)\n",
    "        equality = (labels.data == ps.max(dim=1)[1])\n",
    "        accuracy += equality.type(torch.FloatTensor).mean()\n",
    "print(\"Test Accuracy: {:.3f}\".format(accuracy/len(testloader)))"
   ]
  }
 ],
 "metadata": {
  "kernelspec": {
   "display_name": "Python 3",
   "language": "python",
   "name": "python3"
  },
  "language_info": {
   "codemirror_mode": {
    "name": "ipython",
    "version": 3
   },
   "file_extension": ".py",
   "mimetype": "text/x-python",
   "name": "python",
   "nbconvert_exporter": "python",
   "pygments_lexer": "ipython3",
   "version": "3.6.9"
  }
 },
 "nbformat": 4,
 "nbformat_minor": 2
}
